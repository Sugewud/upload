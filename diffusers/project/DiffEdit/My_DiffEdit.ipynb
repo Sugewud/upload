{
 "cells": [
  {
   "cell_type": "markdown",
   "metadata": {},
   "source": [
    "![model](image/model.png)"
   ]
  },
  {
   "cell_type": "markdown",
   "metadata": {},
   "source": [
    "**第一步：自动计算掩码。**\n",
    "\n",
    "​\t首先将x0加噪。将[0,T]转化成[0,1]，文章通过实验得出，加噪到0.5效果不错。 然后对这个噪声图进行去噪，第一个预测的噪声的文本信息是原图，第二个是询问。两个噪声的差值得到掩码图。\n",
    "\n",
    "​\t**第二步：用DDIM进行编码**\n",
    "\n",
    "​\t用 DDIM进行编码，不是编码到完全噪声，而是编码到某个中间步骤。文本条件为空。 编码程度用r控制，r越大，越贴近文本，但是就可能与输入图像偏差更大。\n",
    "\n",
    "​\t**第三步：用掩码进行解码**\n",
    "\n",
    "​\t这里就是常规做法了。掩码的部分只由扩散模型提供。非掩码的部分用原图加噪提供，这里用的是DDIM编码时的图。 这里是DDIM的前向和后向结合，比较一致。以往的做法是直接加噪声然后去噪，就失去了一致 性。效果不好。\n",
    "\n",
    "​\t总结来说，就是提供了一种通过去噪的差计算掩码的方式。有了掩码之后，就是通过DDIM前向和反向来进行修改。DDIM前向到某一个步骤，再反向，反向的过程用DDIM的加噪，掩码部分用扩散模型。"
   ]
  },
  {
   "cell_type": "markdown",
   "metadata": {},
   "source": [
    "#### 导入相关包"
   ]
  },
  {
   "cell_type": "code",
   "execution_count": null,
   "metadata": {},
   "outputs": [],
   "source": [
    "from transformers import CLIPTextModel, CLIPTokenizer\n",
    "from diffusers import AutoencoderKL, UNet2DConditionModel, DDIMScheduler\n",
    "import torch\n",
    "from torchvision import transforms as tfms\n",
    "from tqdm.auto import tqdm\n",
    "from PIL import Image\n",
    "from IPython import display\n",
    "import logging\n",
    "from pathlib import Path\n",
    "from huggingface_hub import notebook_login\n",
    "\n",
    "logging.disable(logging.WARNING)  #禁用警告信息\n",
    "\n",
    "if not (Path.home()/'.huggingface'/'token').exists(): \n",
    "    notebook_login()"
   ]
  }
 ],
 "metadata": {
  "interpreter": {
   "hash": "99c97bf3c9d3c81a739cd20f2d7c2881a2e0795adf21ca2718ef10011e9d8acb"
  },
  "kernelspec": {
   "display_name": "Python 3.8.18 ('test')",
   "language": "python",
   "name": "python3"
  },
  "language_info": {
   "codemirror_mode": {
    "name": "ipython",
    "version": 3
   },
   "file_extension": ".py",
   "mimetype": "text/x-python",
   "name": "python",
   "nbconvert_exporter": "python",
   "pygments_lexer": "ipython3",
   "version": "3.8.18"
  },
  "orig_nbformat": 4
 },
 "nbformat": 4,
 "nbformat_minor": 2
}
